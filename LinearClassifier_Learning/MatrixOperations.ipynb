{
 "cells": [
  {
   "cell_type": "code",
   "execution_count": 1,
   "id": "b5c11b4b-4629-47e3-972b-6ff24bcc01f6",
   "metadata": {},
   "outputs": [],
   "source": [
    "import numpy as np\n",
    "\n",
    "def add_two_lists(a,b):\n",
    "  return [a[i]+b[i] for i in range(len(a))]"
   ]
  },
  {
   "cell_type": "code",
   "execution_count": 3,
   "id": "ab4be0b9-cb97-4cbe-8362-be0efeec63e5",
   "metadata": {},
   "outputs": [
    {
     "name": "stdout",
     "output_type": "stream",
     "text": [
      "[8, 6, 4]\n"
     ]
    }
   ],
   "source": [
    "print(add_two_lists([5,4,3],[3,2,1]))"
   ]
  },
  {
   "cell_type": "code",
   "execution_count": null,
   "id": "8a4a1901-ef09-4a88-bdef-7b392e6bc9c2",
   "metadata": {},
   "outputs": [],
   "source": [
    "def dot(a,b):\n",
    "  return sum([a[i]*b[i] for i in range(len(a))])"
   ]
  },
  {
   "cell_type": "code",
   "execution_count": null,
   "id": "0537eb91-f05c-4b3d-b9f6-170c9a359f00",
   "metadata": {},
   "outputs": [],
   "source": [
    "dot([5,4,3],[3,2,1])"
   ]
  },
  {
   "cell_type": "code",
   "execution_count": null,
   "id": "59d36f6b-7623-4767-b77a-c4ff370a1185",
   "metadata": {},
   "outputs": [],
   "source": [
    "def array_multiply(A,B):\n",
    "  result = []\n",
    "  height = len(A)\n",
    "  widht = len(B[0])\n",
    "  for row in range(height):\n",
    "    rowValues = []\n",
    "    for column in range(widht):\n",
    "      verticalVector = [rows[column] for rows in B]\n",
    "      rowValues.append(dot(A[row],verticalVector))\n",
    "    result.append(rowValues)\n",
    "\n",
    "  return result\n",
    "\n",
    "a = [[0,1],[2,3],[3,2]]\n",
    "b = [[0,2,3,4,5],[2,4,2,2,1]]\n",
    "array_multiply(a,b)\n",
    "\n"
   ]
  },
  {
   "cell_type": "code",
   "execution_count": null,
   "id": "6bec129c-4c85-4d56-a3e6-8dc303e4d9e0",
   "metadata": {},
   "outputs": [],
   "source": []
  }
 ],
 "metadata": {
  "kernelspec": {
   "display_name": "Python [conda env:base] *",
   "language": "python",
   "name": "conda-base-py"
  },
  "language_info": {
   "codemirror_mode": {
    "name": "ipython",
    "version": 3
   },
   "file_extension": ".py",
   "mimetype": "text/x-python",
   "name": "python",
   "nbconvert_exporter": "python",
   "pygments_lexer": "ipython3",
   "version": "3.12.7"
  }
 },
 "nbformat": 4,
 "nbformat_minor": 5
}
